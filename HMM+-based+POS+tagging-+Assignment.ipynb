{
 "cells": [
  {
   "cell_type": "markdown",
   "metadata": {},
   "source": [
    "## POS tagging using modified Viterbi"
   ]
  },
  {
   "cell_type": "markdown",
   "metadata": {},
   "source": [
    "###### We accomplished the following in this assignment:\n",
    "1. Write the vanilla Viterbi algorithm for assigning POS tags (i.e. without dealing with unknown words) \n",
    "2. Solve the problem of unknown words using at least two techniques. These techniques can use any of the approaches discussed in the class - lexicon, rule-based, probabilistic etc. Note that to implement these techniques, you can either write separate functions and call them from the main Viterbi algorithm, or modify the Viterbi algorithm, or both.\n",
    "3. Compare the tagging accuracy after making these modifications with the vanilla Viterbi algorithm.\n",
    "4. List down at least three cases from the sample test file (i.e. unknown word-tag pairs) which were incorrectly tagged by the original Viterbi POS tagger and got corrected after your modifications."
   ]
  },
  {
   "cell_type": "markdown",
   "metadata": {},
   "source": [
    "### Data Preparation"
   ]
  },
  {
   "cell_type": "code",
   "execution_count": 1,
   "metadata": {},
   "outputs": [
    {
     "name": "stderr",
     "output_type": "stream",
     "text": [
      "[nltk_data] Downloading package universal_tagset to\n",
      "[nltk_data]     C:\\Users\\v-jysha\\AppData\\Roaming\\nltk_data...\n",
      "[nltk_data]   Package universal_tagset is already up-to-date!\n"
     ]
    },
    {
     "data": {
      "text/plain": [
       "True"
      ]
     },
     "execution_count": 1,
     "metadata": {},
     "output_type": "execute_result"
    }
   ],
   "source": [
    "#Importing libraries\n",
    "import nltk\n",
    "import numpy as np\n",
    "import pandas as pd\n",
    "import requests\n",
    "import random\n",
    "import re, pprint\n",
    "import time\n",
    "\n",
    "import matplotlib.pyplot as plt\n",
    "import seaborn as sns\n",
    "\n",
    "\n",
    "from sklearn.model_selection import train_test_split \n",
    "from nltk.tokenize import word_tokenize \n",
    "nltk.download('universal_tagset')"
   ]
  },
  {
   "cell_type": "code",
   "execution_count": 2,
   "metadata": {},
   "outputs": [],
   "source": [
    "# reading the Treebank tagged sentences\n",
    "nltk_data = list(nltk.corpus.treebank.tagged_sents(tagset='universal'))"
   ]
  },
  {
   "cell_type": "markdown",
   "metadata": {},
   "source": [
    "Splitting the Treebank dataset into train and validation sets. \n",
    "As suggested, Sample size of 95:5 for training: validation sets, i.e. keep the validation size small, else the algorithm will need a very high amount of runtime."
   ]
  },
  {
   "cell_type": "code",
   "execution_count": 3,
   "metadata": {},
   "outputs": [],
   "source": [
    "train_set , test_set = train_test_split(nltk_data , train_size = .95, test_size = .05 , random_state = 70)\n"
   ]
  },
  {
   "cell_type": "code",
   "execution_count": 4,
   "metadata": {},
   "outputs": [
    {
     "name": "stdout",
     "output_type": "stream",
     "text": [
      "3914\n",
      "3718\n",
      "196\n",
      "[[('Temple', 'NOUN'), (',', '.'), ('however', 'ADV'), (',', '.'), ('harshly', 'ADV'), ('criticized', 'VERB'), ('Sea', 'NOUN'), ('Containers', 'NOUN'), (\"'\", 'PRT'), ('plan', 'NOUN'), ('yesterday', 'NOUN'), (',', '.'), ('*-1', 'X'), ('characterizing', 'VERB'), ('it', 'PRON'), ('as', 'ADP'), ('a', 'DET'), ('``', '.'), ('highly', 'ADV'), ('conditional', 'ADJ'), ('device', 'NOUN'), ('designed', 'VERB'), ('*', 'X'), ('*-2', 'X'), ('to', 'PRT'), ('entrench', 'VERB'), ('management', 'NOUN'), (',', '.'), ('confuse', 'VERB'), ('shareholders', 'NOUN'), ('and', 'CONJ'), ('prevent', 'VERB'), ('them', 'PRON'), ('from', 'ADP'), ('*-3', 'X'), ('accepting', 'VERB'), ('our', 'PRON'), ('superior', 'ADJ'), ('cash', 'NOUN'), ('offer', 'NOUN'), ('.', '.'), (\"''\", '.')]]\n"
     ]
    }
   ],
   "source": [
    "#total length of data before splitting\n",
    "print(len(nltk_data))\n",
    "#total length of the train set after splitting the data\n",
    "print(len(train_set))\n",
    "#total length of the test set after splitting the data\n",
    "print(len(test_set))\n",
    "#First item in the training set\n",
    "print(train_set[:1])"
   ]
  },
  {
   "cell_type": "code",
   "execution_count": 5,
   "metadata": {},
   "outputs": [
    {
     "data": {
      "text/plain": [
       "95870"
      ]
     },
     "execution_count": 5,
     "metadata": {},
     "output_type": "execute_result"
    }
   ],
   "source": [
    "# Getting list of tagged words\n",
    "train_tagged_words = [tup for sent in train_set for tup in sent]\n",
    "len(train_tagged_words)"
   ]
  },
  {
   "cell_type": "code",
   "execution_count": 6,
   "metadata": {},
   "outputs": [
    {
     "data": {
      "text/plain": [
       "['Temple',\n",
       " ',',\n",
       " 'however',\n",
       " ',',\n",
       " 'harshly',\n",
       " 'criticized',\n",
       " 'Sea',\n",
       " 'Containers',\n",
       " \"'\",\n",
       " 'plan']"
      ]
     },
     "execution_count": 6,
     "metadata": {},
     "output_type": "execute_result"
    }
   ],
   "source": [
    "# Getting the tokens  \n",
    "tokens = [pair[0] for pair in train_tagged_words]\n",
    "tokens[:10]"
   ]
  },
  {
   "cell_type": "code",
   "execution_count": 7,
   "metadata": {},
   "outputs": [
    {
     "name": "stdout",
     "output_type": "stream",
     "text": [
      "12088\n"
     ]
    }
   ],
   "source": [
    "# vocabulary\n",
    "V = set(tokens)\n",
    "print(len(V))"
   ]
  },
  {
   "cell_type": "code",
   "execution_count": 8,
   "metadata": {},
   "outputs": [
    {
     "data": {
      "text/plain": [
       "12"
      ]
     },
     "execution_count": 8,
     "metadata": {},
     "output_type": "execute_result"
    }
   ],
   "source": [
    "# number of tags\n",
    "T = set([pair[1] for pair in train_tagged_words])\n",
    "len(T)"
   ]
  },
  {
   "cell_type": "code",
   "execution_count": 9,
   "metadata": {},
   "outputs": [
    {
     "name": "stdout",
     "output_type": "stream",
     "text": [
      "{'ADV', 'ADJ', '.', 'PRT', 'PRON', 'VERB', 'X', 'DET', 'NOUN', 'ADP', 'NUM', 'CONJ'}\n"
     ]
    }
   ],
   "source": [
    "#Tags\n",
    "print(T)"
   ]
  },
  {
   "cell_type": "markdown",
   "metadata": {},
   "source": [
    "### Emission Probabilities"
   ]
  },
  {
   "cell_type": "code",
   "execution_count": 10,
   "metadata": {},
   "outputs": [],
   "source": [
    "# compute word given tag: Emission Probability\n",
    "def word_given_tag(word, tag, train_bag = train_tagged_words):\n",
    "    tag_list = [pair for pair in train_bag if pair[1]==tag]\n",
    "    count_tag = len(tag_list)\n",
    "    w_given_tag_list = [pair[0] for pair in tag_list if pair[0]==word]\n",
    "    count_w_given_tag = len(w_given_tag_list)\n",
    "    \n",
    "    return (count_w_given_tag, count_tag)"
   ]
  },
  {
   "cell_type": "markdown",
   "metadata": {},
   "source": [
    "### Transition Probabilities\n"
   ]
  },
  {
   "cell_type": "code",
   "execution_count": 11,
   "metadata": {},
   "outputs": [],
   "source": [
    "# compute tag given tag: tag2(t2) given tag1 (t1), i.e. Transition Probability\n",
    "\n",
    "def t2_given_t1(t2, t1, train_bag = train_tagged_words):\n",
    "    tags = [pair[1] for pair in train_bag]\n",
    "    count_t1 = len([t for t in tags if t==t1])\n",
    "    count_t2_t1 = 0\n",
    "    for index in range(len(tags)-1):\n",
    "        if tags[index]==t1 and tags[index+1] == t2:\n",
    "            count_t2_t1 += 1\n",
    "    return (count_t2_t1, count_t1)"
   ]
  },
  {
   "cell_type": "code",
   "execution_count": 12,
   "metadata": {},
   "outputs": [],
   "source": [
    "# creating t x t transition matrix of tags\n",
    "# each column is t2, each row is t1\n",
    "# thus M(i, j) represents P(tj given ti)\n",
    "\n",
    "tags_matrix = np.zeros((len(T), len(T)), dtype='float32')\n",
    "for i, t1 in enumerate(list(T)):\n",
    "    for j, t2 in enumerate(list(T)): \n",
    "        tags_matrix[i, j] = t2_given_t1(t2, t1)[0]/t2_given_t1(t2, t1)[1]"
   ]
  },
  {
   "cell_type": "code",
   "execution_count": 13,
   "metadata": {},
   "outputs": [],
   "source": [
    "# convert the matrix to a df for better readability\n",
    "tags_df = pd.DataFrame(tags_matrix, columns = list(T), index=list(T))"
   ]
  },
  {
   "cell_type": "code",
   "execution_count": 14,
   "metadata": {},
   "outputs": [
    {
     "data": {
      "text/plain": [
       "ADV     0.053345\n",
       "ADJ     0.043197\n",
       ".       0.091783\n",
       "PRT     0.002515\n",
       "PRON    0.065469\n",
       "VERB    0.089807\n",
       "X       0.027211\n",
       "DET     0.173507\n",
       "NOUN    0.222452\n",
       "ADP     0.091334\n",
       "NUM     0.081275\n",
       "CONJ    0.058015\n",
       "Name: ., dtype: float32"
      ]
     },
     "execution_count": 14,
     "metadata": {},
     "output_type": "execute_result"
    }
   ],
   "source": [
    "tags_df.loc['.', :]"
   ]
  },
  {
   "cell_type": "code",
   "execution_count": 15,
   "metadata": {},
   "outputs": [
    {
     "data": {
      "image/png": "[encoded data removed]",
      "text/plain": [
       "<Figure size 1080x720 with 2 Axes>"
      ]
     },
     "metadata": {
      "needs_background": "light"
     },
     "output_type": "display_data"
    }
   ],
   "source": [
    "# heatmap of tags matrix\n",
    "# T(i, j) means P(tag j given tag i)\n",
    "plt.figure(figsize=(15, 10))\n",
    "sns.heatmap(tags_df)\n",
    "plt.show()"
   ]
  },
  {
   "cell_type": "markdown",
   "metadata": {},
   "source": [
    "### Build the vanilla Viterbi based POS tagger"
   ]
  },
  {
   "cell_type": "code",
   "execution_count": 16,
   "metadata": {},
   "outputs": [],
   "source": [
    "# Viterbi Heuristic\n",
    "def Viterbi(words, train_bag = train_tagged_words):\n",
    "    state = []\n",
    "    T = list(set([pair[1] for pair in train_bag]))\n",
    "    \n",
    "    for key, word in enumerate(words):\n",
    "        #initialise list of probability column for a given observation\n",
    "        p = [] \n",
    "        for tag in T:\n",
    "            if key == 0:\n",
    "                transition_p = tags_df.loc['.', tag]\n",
    "            else:\n",
    "                transition_p = tags_df.loc[state[-1], tag]\n",
    "                \n",
    "            # compute emission and state probabilities\n",
    "            emission_p = word_given_tag(words[key], tag)[0]/word_given_tag(words[key], tag)[1]\n",
    "            state_probability = emission_p * transition_p    \n",
    "            p.append(state_probability)\n",
    "            \n",
    "        pmax = max(p)\n",
    "        # getting state for which probability is maximum\n",
    "        state_max = T[p.index(pmax)] \n",
    "        state.append(state_max)\n",
    "    return list(zip(words, state))\n",
    "\n"
   ]
  },
  {
   "cell_type": "markdown",
   "metadata": {},
   "source": [
    "##### Testing Vanilla Viterbi Algorithm "
   ]
  },
  {
   "cell_type": "code",
   "execution_count": 17,
   "metadata": {},
   "outputs": [
    {
     "data": {
      "text/plain": [
       "[[('So', 'ADP'),\n",
       "  ('far', 'ADV'),\n",
       "  (',', '.'),\n",
       "  ('Mrs.', 'NOUN'),\n",
       "  ('Hills', 'NOUN'),\n",
       "  ('has', 'VERB'),\n",
       "  (\"n't\", 'ADV'),\n",
       "  ('deemed', 'VERB'),\n",
       "  ('any', 'DET'),\n",
       "  ('cases', 'NOUN'),\n",
       "  ('bad', 'ADJ'),\n",
       "  ('enough', 'ADV'),\n",
       "  ('*-1', 'X'),\n",
       "  ('to', 'PRT'),\n",
       "  ('merit', 'VERB'),\n",
       "  ('an', 'DET'),\n",
       "  ('accelerated', 'VERB'),\n",
       "  ('investigation', 'NOUN'),\n",
       "  ('under', 'ADP'),\n",
       "  ('the', 'DET'),\n",
       "  ('so-called', 'ADJ'),\n",
       "  ('special', 'ADJ'),\n",
       "  ('301', 'NUM'),\n",
       "  ('provision', 'NOUN'),\n",
       "  ('of', 'ADP'),\n",
       "  ('the', 'DET'),\n",
       "  ('act', 'NOUN'),\n",
       "  ('.', '.')],\n",
       " [('Despite', 'ADP'),\n",
       "  ('the', 'DET'),\n",
       "  ('strong', 'ADJ'),\n",
       "  ('evidence', 'NOUN'),\n",
       "  ('against', 'ADP'),\n",
       "  ('Mrs.', 'NOUN'),\n",
       "  ('Yeargin', 'NOUN'),\n",
       "  (',', '.'),\n",
       "  ('popular', 'ADJ'),\n",
       "  ('sentiment', 'NOUN'),\n",
       "  ('*ICH*-1', 'X'),\n",
       "  ('was', 'VERB'),\n",
       "  ('so', 'ADV'),\n",
       "  ('strong', 'ADJ'),\n",
       "  ('*ICH*-3', 'X'),\n",
       "  ('in', 'ADP'),\n",
       "  ('her', 'PRON'),\n",
       "  ('favor', 'NOUN'),\n",
       "  (',', '.'),\n",
       "  ('Mrs.', 'NOUN'),\n",
       "  ('Ward', 'NOUN'),\n",
       "  ('says', 'VERB'),\n",
       "  ('0', 'X'),\n",
       "  ('*T*-2', 'X'),\n",
       "  (',', '.'),\n",
       "  ('that', 'ADP'),\n",
       "  ('``', '.'),\n",
       "  ('I', 'PRON'),\n",
       "  (\"'m\", 'VERB'),\n",
       "  ('afraid', 'ADJ'),\n",
       "  ('0', 'X'),\n",
       "  ('a', 'DET'),\n",
       "  ('jury', 'NOUN'),\n",
       "  ('would', 'VERB'),\n",
       "  (\"n't\", 'ADV'),\n",
       "  ('have', 'VERB'),\n",
       "  ('convicted', 'VERB'),\n",
       "  ('her', 'PRON'),\n",
       "  ('.', '.')],\n",
       " [('In', 'ADP'),\n",
       "  ('CAT', 'NOUN'),\n",
       "  ('sections', 'NOUN'),\n",
       "  ('where', 'ADV'),\n",
       "  ('students', 'NOUN'),\n",
       "  (\"'\", 'PRT'),\n",
       "  ('knowledge', 'NOUN'),\n",
       "  ('of', 'ADP'),\n",
       "  ('two-letter', 'ADJ'),\n",
       "  ('consonant', 'ADJ'),\n",
       "  ('sounds', 'NOUN'),\n",
       "  ('is', 'VERB'),\n",
       "  ('tested', 'VERB'),\n",
       "  ('*-1', 'X'),\n",
       "  ('*T*-2', 'X'),\n",
       "  (',', '.'),\n",
       "  ('the', 'DET'),\n",
       "  ('authors', 'NOUN'),\n",
       "  ('noted', 'VERB'),\n",
       "  ('that', 'ADP'),\n",
       "  ('Scoring', 'NOUN'),\n",
       "  ('High', 'NOUN'),\n",
       "  ('concentrated', 'VERB'),\n",
       "  ('on', 'ADP'),\n",
       "  ('the', 'DET'),\n",
       "  ('same', 'ADJ'),\n",
       "  ('sounds', 'NOUN'),\n",
       "  ('that', 'ADP'),\n",
       "  ('the', 'DET'),\n",
       "  ('test', 'NOUN'),\n",
       "  ('does', 'VERB'),\n",
       "  ('*?*', 'X'),\n",
       "  ('*T*-4', 'X'),\n",
       "  ('--', '.'),\n",
       "  ('to', 'ADP'),\n",
       "  ('the', 'DET'),\n",
       "  ('exclusion', 'NOUN'),\n",
       "  ('of', 'ADP'),\n",
       "  ('other', 'ADJ'),\n",
       "  ('sounds', 'NOUN'),\n",
       "  ('that', 'ADP'),\n",
       "  ('fifth', 'ADJ'),\n",
       "  ('graders', 'NOUN'),\n",
       "  ('should', 'VERB'),\n",
       "  ('know', 'VERB'),\n",
       "  ('*T*-3', 'X'),\n",
       "  ('.', '.')],\n",
       " [('*', 'X'),\n",
       "  ('Guaranteed', 'VERB'),\n",
       "  ('*-1', 'X'),\n",
       "  ('by', 'ADP'),\n",
       "  ('Svenska', 'NOUN'),\n",
       "  ('Handelsbanken', 'NOUN'),\n",
       "  ('.', '.')],\n",
       " [('A', 'DET'),\n",
       "  ('voice', 'NOUN'),\n",
       "  ('says', 'VERB'),\n",
       "  (',', '.'),\n",
       "  ('``', '.'),\n",
       "  (\"C'mon\", 'VERB'),\n",
       "  (',', '.'),\n",
       "  ('now', 'ADV'),\n",
       "  (',', '.'),\n",
       "  ('do', 'VERB'),\n",
       "  (\"n't\", 'ADV'),\n",
       "  ('you', 'PRON'),\n",
       "  ('have', 'VERB'),\n",
       "  ('boyfriends', 'NOUN'),\n",
       "  ('?', '.'),\n",
       "  (\"''\", '.')],\n",
       " [('*-1', 'X'),\n",
       "  ('To', 'PRT'),\n",
       "  ('keep', 'VERB'),\n",
       "  ('program-trading', 'ADJ'),\n",
       "  ('units', 'NOUN'),\n",
       "  ('profitable', 'ADJ'),\n",
       "  ('in', 'ADP'),\n",
       "  ('the', 'DET'),\n",
       "  ('eyes', 'NOUN'),\n",
       "  ('of', 'ADP'),\n",
       "  ('senior', 'ADJ'),\n",
       "  ('brokerage', 'NOUN'),\n",
       "  ('executives', 'NOUN'),\n",
       "  (',', '.'),\n",
       "  ('traders', 'NOUN'),\n",
       "  ('must', 'VERB'),\n",
       "  ('seize', 'VERB'),\n",
       "  ('every', 'DET'),\n",
       "  ('opportunity', 'NOUN'),\n",
       "  ('0', 'X'),\n",
       "  ('their', 'PRON'),\n",
       "  ('computers', 'NOUN'),\n",
       "  ('find', 'VERB'),\n",
       "  ('*T*-2', 'X'),\n",
       "  ('.', '.')],\n",
       " [('Mr.', 'NOUN'),\n",
       "  ('Einhorn', 'NOUN'),\n",
       "  ('of', 'ADP'),\n",
       "  ('Goldman', 'NOUN'),\n",
       "  ('Sachs', 'NOUN'),\n",
       "  ('estimates', 'VERB'),\n",
       "  ('0', 'X'),\n",
       "  ('the', 'DET'),\n",
       "  ('stock', 'NOUN'),\n",
       "  ('market', 'NOUN'),\n",
       "  ('will', 'VERB'),\n",
       "  ('deliver', 'VERB'),\n",
       "  ('a', 'DET'),\n",
       "  ('12', 'NUM'),\n",
       "  ('%', 'NOUN'),\n",
       "  ('to', 'PRT'),\n",
       "  ('15', 'NUM'),\n",
       "  ('%', 'NOUN'),\n",
       "  ('*U*', 'X'),\n",
       "  ('total', 'NOUN'),\n",
       "  ('return', 'NOUN'),\n",
       "  ('from', 'ADP'),\n",
       "  ('appreciation', 'NOUN'),\n",
       "  ('and', 'CONJ'),\n",
       "  ('dividends', 'NOUN'),\n",
       "  ('*ICH*-1', 'X'),\n",
       "  ('over', 'ADP'),\n",
       "  ('the', 'DET'),\n",
       "  ('next', 'ADJ'),\n",
       "  ('12', 'NUM'),\n",
       "  ('months', 'NOUN'),\n",
       "  ('--', '.'),\n",
       "  ('vs.', 'ADP'),\n",
       "  ('a', 'DET'),\n",
       "  ('``', '.'),\n",
       "  ('cash', 'NOUN'),\n",
       "  ('rate', 'NOUN'),\n",
       "  ('of', 'ADP'),\n",
       "  ('return', 'NOUN'),\n",
       "  (\"''\", '.'),\n",
       "  ('of', 'ADP'),\n",
       "  ('perhaps', 'ADV'),\n",
       "  ('7', 'NUM'),\n",
       "  ('%', 'NOUN'),\n",
       "  ('or', 'CONJ'),\n",
       "  ('8', 'NUM'),\n",
       "  ('%', 'ADJ'),\n",
       "  ('*U*', 'X'),\n",
       "  ('if', 'ADP'),\n",
       "  ('dividend', 'NOUN'),\n",
       "  ('growth', 'NOUN'),\n",
       "  ('is', 'VERB'),\n",
       "  ('weak', 'ADJ'),\n",
       "  ('.', '.')],\n",
       " [('A', 'DET'),\n",
       "  ('Shearson', 'NOUN'),\n",
       "  ('spokesman', 'NOUN'),\n",
       "  ('said', 'VERB'),\n",
       "  ('0', 'X'),\n",
       "  ('the', 'DET'),\n",
       "  ('firm', 'NOUN'),\n",
       "  ('is', 'VERB'),\n",
       "  (\"n't\", 'ADV'),\n",
       "  ('worried', 'VERB'),\n",
       "  ('.', '.')],\n",
       " [('``', '.'),\n",
       "  ('Cray', 'NOUN'),\n",
       "  ('Computer', 'NOUN'),\n",
       "  ('will', 'VERB'),\n",
       "  ('be', 'VERB'),\n",
       "  ('a', 'DET'),\n",
       "  ('concept', 'NOUN'),\n",
       "  ('stock', 'NOUN'),\n",
       "  (',', '.'),\n",
       "  (\"''\", '.'),\n",
       "  ('he', 'PRON'),\n",
       "  ('said', 'VERB'),\n",
       "  ('*T*-1', 'X'),\n",
       "  ('.', '.')],\n",
       " [('A', 'DET'),\n",
       "  ('final', 'ADJ'),\n",
       "  ('modification', 'NOUN'),\n",
       "  ('*ICH*-1', 'X'),\n",
       "  ('was', 'VERB'),\n",
       "  ('made', 'VERB'),\n",
       "  ('*-130', 'X'),\n",
       "  ('to', 'PRT'),\n",
       "  ('the', 'DET'),\n",
       "  ('five-point', 'ADJ'),\n",
       "  ('opening', 'VERB'),\n",
       "  ('limit', 'NOUN'),\n",
       "  ('for', 'ADP'),\n",
       "  ('the', 'DET'),\n",
       "  ('contract', 'NOUN'),\n",
       "  ('.', '.')]]"
      ]
     },
     "execution_count": 17,
     "metadata": {},
     "output_type": "execute_result"
    }
   ],
   "source": [
    "# Running on entire test dataset would take more than 3-4hrs so instead evaluate on few sentences. \n",
    "\n",
    "random.seed(1234)\n",
    "# choose random 10 sentence\n",
    "rndom = [random.randint(1,len(test_set)) for x in range(10)]\n",
    "# list of sentence\n",
    "test_run = [test_set[i] for i in rndom]\n",
    "# list of tagged words\n",
    "test_run_base = [tup for sent in test_run for tup in sent]\n",
    "test_tagged_words = [tup[0] for sent in test_run for tup in sent]\n",
    "test_run"
   ]
  },
  {
   "cell_type": "code",
   "execution_count": 18,
   "metadata": {},
   "outputs": [],
   "source": [
    "#function to find out the Accuracy\n",
    "def Check_accuracy(tagged_seq , tagged_word_tag):\n",
    "    check = [i for i, j in zip(tagged_seq, tagged_word_tag) if i == j] \n",
    "    accuracy = len(check)/len(tagged_seq)\n",
    "    return accuracy"
   ]
  },
  {
   "cell_type": "code",
   "execution_count": 19,
   "metadata": {},
   "outputs": [],
   "source": [
    "#function to find out the incorrect tagged cases\n",
    "def Find_unmatched_tagged_cases(tagged_seq , tagged_word_tag):\n",
    "    unmatched_tagged_cases = [[tagged_word_tag[i-1],j] for i, j in enumerate(zip(tagged_seq, tagged_word_tag)) if j[0]!=j[1]]\n",
    "    return unmatched_tagged_cases  "
   ]
  },
  {
   "cell_type": "code",
   "execution_count": 20,
   "metadata": {},
   "outputs": [
    {
     "name": "stdout",
     "output_type": "stream",
     "text": [
      "Time taken in seconds:  49.140602350234985\n",
      "Vanilla Viterbi Algorithm Accuracy is:  0.9027237354085603\n"
     ]
    }
   ],
   "source": [
    "# tagging the test sentences\n",
    "start = time.time()\n",
    "tagged_seq = Viterbi(test_tagged_words)\n",
    "end = time.time()\n",
    "\n",
    "print(\"Time taken in seconds: \", end-start)\n",
    "\n",
    "accuracy_viterbi = Check_accuracy(tagged_seq , test_run_base)\n",
    "print(\"Vanilla Viterbi Algorithm Accuracy is: \",accuracy_viterbi)"
   ]
  },
  {
   "cell_type": "code",
   "execution_count": 21,
   "metadata": {},
   "outputs": [
    {
     "name": "stdout",
     "output_type": "stream",
     "text": [
      "[('So', 'ADV'), ('far', 'ADV'), (',', '.'), ('Mrs.', 'NOUN'), ('Hills', 'NOUN'), ('has', 'VERB'), (\"n't\", 'ADV'), ('deemed', 'ADV'), ('any', 'DET'), ('cases', 'NOUN'), ('bad', 'ADJ'), ('enough', 'ADJ'), ('*-1', 'X'), ('to', 'PRT'), ('merit', 'NOUN'), ('an', 'DET'), ('accelerated', 'ADJ'), ('investigation', 'NOUN'), ('under', 'ADP'), ('the', 'DET')]\n"
     ]
    }
   ],
   "source": [
    "print(tagged_seq[:20])"
   ]
  },
  {
   "cell_type": "code",
   "execution_count": 22,
   "metadata": {},
   "outputs": [
    {
     "data": {
      "text/plain": [
       "[[('.', '.'), (('So', 'ADV'), ('So', 'ADP'))],\n",
       " [(\"n't\", 'ADV'), (('deemed', 'ADV'), ('deemed', 'VERB'))],\n",
       " [('bad', 'ADJ'), (('enough', 'ADJ'), ('enough', 'ADV'))],\n",
       " [('to', 'PRT'), (('merit', 'NOUN'), ('merit', 'VERB'))],\n",
       " [('an', 'DET'), (('accelerated', 'ADJ'), ('accelerated', 'VERB'))],\n",
       " [('special', 'ADJ'), (('301', 'ADV'), ('301', 'NUM'))],\n",
       " [('her', 'PRON'), (('favor', 'VERB'), ('favor', 'NOUN'))],\n",
       " [(',', '.'), (('that', 'DET'), ('that', 'ADP'))],\n",
       " [('of', 'ADP'), (('two-letter', 'ADV'), ('two-letter', 'ADJ'))],\n",
       " [('two-letter', 'ADJ'), (('consonant', 'ADV'), ('consonant', 'ADJ'))]]"
      ]
     },
     "execution_count": 22,
     "metadata": {},
     "output_type": "execute_result"
    }
   ],
   "source": [
    "unmatched = Find_unmatched_tagged_cases(tagged_seq , test_run_base)\n",
    "unmatched[:10]"
   ]
  },
  {
   "cell_type": "code",
   "execution_count": 23,
   "metadata": {},
   "outputs": [
    {
     "name": "stdout",
     "output_type": "stream",
     "text": [
      "12088   1820\n",
      "Total Unknown words: 320\n"
     ]
    }
   ],
   "source": [
    "tagged_words=[tup for ls in test_set for tup in ls]\n",
    "vocabulary_validation=set([t[0] for t in tagged_words])\n",
    "print(len(V),' ',len(vocabulary_validation))\n",
    "\n",
    "Unknownwords=list(vocabulary_validation-V)\n",
    "print(\"Total Unknown words: {}\".format(len(Unknownwords)))\n"
   ]
  },
  {
   "cell_type": "markdown",
   "metadata": {},
   "source": [
    "### Solve the problem of unknown words"
   ]
  },
  {
   "cell_type": "code",
   "execution_count": 24,
   "metadata": {},
   "outputs": [
    {
     "data": {
      "text/plain": [
       "['livelihood',\n",
       " 'Four',\n",
       " 'Dale',\n",
       " '1.17',\n",
       " 'drop-in',\n",
       " '9.3',\n",
       " 'Heatherington',\n",
       " 'heavy-duty',\n",
       " 'pride',\n",
       " 'English-speaking',\n",
       " 'sweaty',\n",
       " 'favors',\n",
       " 'quote',\n",
       " 'diagnosed',\n",
       " 'Henderson',\n",
       " 'corn-buying',\n",
       " 'consonant',\n",
       " 'rebuilding',\n",
       " 'stacking',\n",
       " 'unsympathetic',\n",
       " 'muzzling',\n",
       " 'odd-year',\n",
       " 'weight',\n",
       " 'transplantation',\n",
       " 'juvenile',\n",
       " 'rendering',\n",
       " 'Abbey',\n",
       " 'uncanny',\n",
       " 'Metal',\n",
       " 'Trans',\n",
       " 'sewer',\n",
       " 'APPEARS',\n",
       " 'accompany',\n",
       " 'disagreeable',\n",
       " '51-year-old',\n",
       " 'sketching',\n",
       " 'dusty',\n",
       " 'Hayes',\n",
       " 'Scotia',\n",
       " 'bell-ringing',\n",
       " 'caustic',\n",
       " 'three-quarters',\n",
       " 'queuing',\n",
       " 'deck',\n",
       " 'Andean',\n",
       " 'sticky',\n",
       " 'Kathryn',\n",
       " 'injuring',\n",
       " 'retiring',\n",
       " '59.6',\n",
       " 'bang',\n",
       " 'Commodities',\n",
       " 'restricts',\n",
       " '50-state',\n",
       " 'recommendation',\n",
       " 'Areas',\n",
       " '858,000',\n",
       " 'unlikely',\n",
       " 'hoopla',\n",
       " 'ambassadors',\n",
       " '18.3',\n",
       " 'skirmishes',\n",
       " 'exclusion',\n",
       " 'fluent',\n",
       " 'deliberating',\n",
       " 'drastic',\n",
       " 'pain',\n",
       " 'softer',\n",
       " 'mentioned',\n",
       " 'approached',\n",
       " 'Pa',\n",
       " 'upper',\n",
       " 'Youths',\n",
       " 'Except',\n",
       " 'philosophy',\n",
       " 'published',\n",
       " '4.875',\n",
       " 'engines',\n",
       " 'designated',\n",
       " 'McAuley',\n",
       " 'Sumitomo',\n",
       " 'F.H.',\n",
       " 'anywhere',\n",
       " 'unanimous',\n",
       " 'assurance',\n",
       " 'accountants',\n",
       " 'disregard',\n",
       " '1.56',\n",
       " 'disposed',\n",
       " 'breathtaking',\n",
       " '1.4',\n",
       " 'pipeline',\n",
       " 'high-minded',\n",
       " 'regulations',\n",
       " 'Ancient',\n",
       " '*T*-246',\n",
       " 'Mexican',\n",
       " 'binge',\n",
       " 'abridging',\n",
       " 'illustrates',\n",
       " 'alike',\n",
       " 'Greece',\n",
       " '0.28',\n",
       " 'Nine',\n",
       " 'angle',\n",
       " 'Dominion',\n",
       " 'Signs',\n",
       " '692',\n",
       " 'Revolution',\n",
       " 'disaster-assistance',\n",
       " 'parts-engineering',\n",
       " 'accrue',\n",
       " 'circuit-board',\n",
       " 'Baking',\n",
       " 'seafood',\n",
       " 'oblivion',\n",
       " 'bottlenecks',\n",
       " 'Encouraged',\n",
       " 'double-A',\n",
       " 'mushy',\n",
       " 'Tailors',\n",
       " 'penny',\n",
       " 'applicable',\n",
       " 'accordance',\n",
       " 'Calif.-based',\n",
       " '*T*-230',\n",
       " 'viewpoints',\n",
       " 'Continental',\n",
       " '70.2',\n",
       " 'lyrics',\n",
       " 'recyclability',\n",
       " 'disapproval',\n",
       " 'stigma',\n",
       " 'tie-breaking',\n",
       " 'external',\n",
       " 'ballots',\n",
       " 'tired',\n",
       " 'Domaine',\n",
       " 'Overseas',\n",
       " 'disapproved',\n",
       " 'timing',\n",
       " 'crunch',\n",
       " 'establish',\n",
       " \"C'mon\",\n",
       " 'proscribes',\n",
       " 'boyfriends',\n",
       " 'dismayed',\n",
       " 'expendable',\n",
       " 'differently',\n",
       " 'charging',\n",
       " 'round-trip',\n",
       " 'TIRED',\n",
       " 'middle-ground',\n",
       " 'Ian',\n",
       " 'diabetes',\n",
       " 'obvious',\n",
       " 'payable',\n",
       " 'la',\n",
       " '131.01',\n",
       " 'prayer',\n",
       " 'exit',\n",
       " 'sacrificing',\n",
       " 'Gringo',\n",
       " 'realestate',\n",
       " 'sport-utility',\n",
       " 'plugged',\n",
       " '12.09',\n",
       " '*T*-161',\n",
       " 'administer',\n",
       " 'Short',\n",
       " 'inquiring',\n",
       " 'GROWTH',\n",
       " 'Andersson',\n",
       " 'Unless',\n",
       " 'captivating',\n",
       " 'degenerative',\n",
       " 'market-oriented',\n",
       " '3.55',\n",
       " 'unlabeled',\n",
       " 'robbed',\n",
       " 'three-digit',\n",
       " 'modems',\n",
       " '13.50',\n",
       " 'launch-vehicle',\n",
       " 'McLeod',\n",
       " '7.8',\n",
       " 'campaigner',\n",
       " '1637',\n",
       " 'passers-by',\n",
       " 'tags',\n",
       " 'Behind',\n",
       " 'Alurralde',\n",
       " 'BRIEFS',\n",
       " 'Fuentes',\n",
       " 'bread',\n",
       " 'Explorer',\n",
       " 'motor-home',\n",
       " 'trimming',\n",
       " 'humans',\n",
       " 'injecting',\n",
       " 'sole',\n",
       " '8.06',\n",
       " 'warranties',\n",
       " 'riding',\n",
       " 'male-only',\n",
       " 'Norwegian',\n",
       " 'Riviera',\n",
       " 'Individual',\n",
       " 'Majority',\n",
       " 'appoint',\n",
       " 'open-top',\n",
       " 'broad-based',\n",
       " 'citizen-sparked',\n",
       " 'Huntington',\n",
       " 'Lead',\n",
       " 'marrow',\n",
       " 'equal-opportunity',\n",
       " 'tows',\n",
       " 'twisting',\n",
       " 'shuttle',\n",
       " 'sue',\n",
       " 'quitting',\n",
       " 'Paso',\n",
       " 'percent',\n",
       " '*-58',\n",
       " '*T*-176',\n",
       " 'Value',\n",
       " 'Rozell',\n",
       " 'ECONOMIC',\n",
       " \"'80s\",\n",
       " 'boots',\n",
       " 'Cathedral',\n",
       " 'attributes',\n",
       " 'insider',\n",
       " '2.95',\n",
       " 'blood-cell',\n",
       " 'Raymond',\n",
       " 'DEPOSIT',\n",
       " 'industrywide',\n",
       " 'Handelsbanken',\n",
       " 'two-letter',\n",
       " 'piracy',\n",
       " 'unloaded',\n",
       " 'containers',\n",
       " 'aspires',\n",
       " 'school-research',\n",
       " 'modification',\n",
       " 'arbitrager',\n",
       " 'TRIMMING',\n",
       " 'spurns',\n",
       " 'Whip',\n",
       " 'concentrating',\n",
       " 'CERTIFICATES',\n",
       " 'Advice',\n",
       " '301',\n",
       " 'negotiable',\n",
       " 'doctrine',\n",
       " 'blinks',\n",
       " 'carefree',\n",
       " '609',\n",
       " 'Barbados',\n",
       " 'trafficking',\n",
       " 'executive-office',\n",
       " '*-130',\n",
       " 'vineyard',\n",
       " '*T*-140',\n",
       " '94',\n",
       " 'deemed',\n",
       " 'Jan.',\n",
       " 'leveling',\n",
       " 'leather',\n",
       " 'lasted',\n",
       " 'Everything',\n",
       " 'forecasting',\n",
       " '129.91',\n",
       " 'vague',\n",
       " 'OF',\n",
       " 'FOREIGN',\n",
       " 'Continuing',\n",
       " 'inevitable',\n",
       " 'yearly',\n",
       " 'Westminster',\n",
       " 'imply',\n",
       " '133.7',\n",
       " 'inauspicious',\n",
       " 'responds',\n",
       " 'contractors',\n",
       " 'commanded',\n",
       " 'scaring',\n",
       " 'blames',\n",
       " 'resumption',\n",
       " 'rectified',\n",
       " 'freeway',\n",
       " '*T*-139',\n",
       " 'vicissitudes',\n",
       " '6.03',\n",
       " 'shift',\n",
       " 'less-serious',\n",
       " 'co-developers',\n",
       " 'Miguel',\n",
       " 'walking',\n",
       " 'comprehensive',\n",
       " 'U.S.-Japan',\n",
       " 'newsstand',\n",
       " 'galling',\n",
       " 'Heiwado',\n",
       " 'fingers',\n",
       " 'reflection',\n",
       " 'RBC',\n",
       " '372.14',\n",
       " 'leaky',\n",
       " 'Left',\n",
       " 'C.D.s',\n",
       " 'soldiers',\n",
       " 'plaintive',\n",
       " 'Consent',\n",
       " 'enjoy',\n",
       " 'pains',\n",
       " 'usurp',\n",
       " '960']"
      ]
     },
     "execution_count": 24,
     "metadata": {},
     "output_type": "execute_result"
    }
   ],
   "source": [
    "#all the unknown words\n",
    "Unknownwords"
   ]
  },
  {
   "cell_type": "markdown",
   "metadata": {},
   "source": [
    "##### Viterbi Modification-Method I"
   ]
  },
  {
   "cell_type": "code",
   "execution_count": 25,
   "metadata": {},
   "outputs": [],
   "source": [
    "def Viterbi_update1(words, train_bag = train_tagged_words):\n",
    "    state = []\n",
    "    T = list(set([pair[1] for pair in train_bag]))\n",
    "    tag_prob = []\n",
    "    total_tag = len([tag for word,tag in train_tagged_words])\n",
    "    for t in T:\n",
    "        each_tag = [tag for word,tag in train_tagged_words if tag==t]\n",
    "        tag_prob.append((t,len(each_tag)/total_tag))\n",
    "        \n",
    "    for key, word in enumerate(words):\n",
    "        #initialise the variables for prob and transition prob\n",
    "        p = [] \n",
    "        p_transition =[]       \n",
    "        for tag in T:\n",
    "            if key == 0:\n",
    "                transition_p = tags_df.loc['.', tag]\n",
    "            else:\n",
    "                transition_p = tags_df.loc[state[-1], tag]\n",
    "                \n",
    "            # compute emission and state probabilities\n",
    "            emission_p=word_given_tag(words[key], tag)[0]/word_given_tag(words[key], tag)[1]\n",
    "            state_probability=emission_p*transition_p    \n",
    "            p.append(state_probability)\n",
    "            \n",
    "            # find POS tag occurance probability\n",
    "            tag_pos=[pair[1] for pair in tag_prob if pair[0]==tag]\n",
    "            \n",
    "            # calculate the transition prob weighted by tag occurance probability.\n",
    "            transition_p=tag_pos[0]*transition_p             \n",
    "            p_transition.append(transition_p)\n",
    "            \n",
    "        pmax=max(p)\n",
    "        state_max=T[p.index(pmax)]        \n",
    "      \n",
    "        # Use the weighted transition probability if probability is zero(unknown word)\n",
    "        if(pmax==0):\n",
    "            pmax=max(p_transition)\n",
    "            state_max=T[p_transition.index(pmax)]                           \n",
    "        else:\n",
    "            state_max = T[p.index(pmax)] \n",
    "        \n",
    "        state.append(state_max)\n",
    "    return list(zip(words, state))"
   ]
  },
  {
   "cell_type": "code",
   "execution_count": 26,
   "metadata": {},
   "outputs": [
    {
     "name": "stdout",
     "output_type": "stream",
     "text": [
      "Total time taken in seconds:  48.204514503479004\n",
      "Accuracy after 1st update is:  0.9221789883268483\n"
     ]
    }
   ],
   "source": [
    "start = time.time()\n",
    "tagged_seq_upd1 = Viterbi_update1(test_tagged_words)\n",
    "end = time.time()\n",
    "\n",
    "print(\"Total time taken in seconds: \", end-start)\n",
    "\n",
    "accuracy_update1 = Check_accuracy(tagged_seq_upd1 , test_run_base)\n",
    "print(\"Accuracy after 1st update is: \",accuracy_update1)"
   ]
  },
  {
   "cell_type": "code",
   "execution_count": 27,
   "metadata": {},
   "outputs": [
    {
     "data": {
      "text/plain": [
       "[('So', 'ADV'),\n",
       " ('far', 'ADV'),\n",
       " (',', '.'),\n",
       " ('Mrs.', 'NOUN'),\n",
       " ('Hills', 'NOUN'),\n",
       " ('has', 'VERB'),\n",
       " (\"n't\", 'ADV'),\n",
       " ('deemed', 'VERB'),\n",
       " ('any', 'DET'),\n",
       " ('cases', 'NOUN'),\n",
       " ('bad', 'ADJ'),\n",
       " ('enough', 'ADJ'),\n",
       " ('*-1', 'X'),\n",
       " ('to', 'PRT'),\n",
       " ('merit', 'NOUN'),\n",
       " ('an', 'DET'),\n",
       " ('accelerated', 'ADJ'),\n",
       " ('investigation', 'NOUN'),\n",
       " ('under', 'ADP'),\n",
       " ('the', 'DET')]"
      ]
     },
     "execution_count": 27,
     "metadata": {},
     "output_type": "execute_result"
    }
   ],
   "source": [
    "tagged_seq_upd1[:20]"
   ]
  },
  {
   "cell_type": "code",
   "execution_count": 28,
   "metadata": {},
   "outputs": [
    {
     "data": {
      "text/plain": [
       "[[('.', '.'), (('So', 'ADV'), ('So', 'ADP'))],\n",
       " [('bad', 'ADJ'), (('enough', 'ADJ'), ('enough', 'ADV'))],\n",
       " [('to', 'PRT'), (('merit', 'NOUN'), ('merit', 'VERB'))],\n",
       " [('an', 'DET'), (('accelerated', 'ADJ'), ('accelerated', 'VERB'))],\n",
       " [('special', 'ADJ'), (('301', 'NOUN'), ('301', 'NUM'))],\n",
       " [('her', 'PRON'), (('favor', 'VERB'), ('favor', 'NOUN'))],\n",
       " [(',', '.'), (('that', 'DET'), ('that', 'ADP'))],\n",
       " [('of', 'ADP'), (('two-letter', 'NOUN'), ('two-letter', 'ADJ'))],\n",
       " [('two-letter', 'ADJ'), (('consonant', 'NOUN'), ('consonant', 'ADJ'))],\n",
       " [('consonant', 'ADJ'), (('sounds', 'VERB'), ('sounds', 'NOUN'))]]"
      ]
     },
     "execution_count": 28,
     "metadata": {},
     "output_type": "execute_result"
    }
   ],
   "source": [
    "unmatched = Find_unmatched_tagged_cases(tagged_seq_upd1 , test_run_base)\n",
    "unmatched[:10]"
   ]
  },
  {
   "cell_type": "markdown",
   "metadata": {},
   "source": [
    "##### Viterbi Modification-Method II"
   ]
  },
  {
   "cell_type": "code",
   "execution_count": 29,
   "metadata": {},
   "outputs": [],
   "source": [
    "patterns = [\n",
    "    (r'.*ing$', 'VERB'),              \n",
    "    (r'.*ed$', 'VERB'),               \n",
    "    (r'.*es$', 'VERB'),               \n",
    "    (r'.*\\'s$', 'NOUN'),              \n",
    "    (r'.*s$', 'NOUN'),                \n",
    "    (r'^-?[0-9]+(.[0-9]+)?$', 'NUM'), \n",
    "    (r'.*', 'NOUN')                    \n",
    "]\n",
    "rule_based_tagger = nltk.RegexpTagger(patterns)\n",
    "lexicon_tagger = nltk.UnigramTagger(train_set, backoff=rule_based_tagger)"
   ]
  },
  {
   "cell_type": "code",
   "execution_count": 30,
   "metadata": {},
   "outputs": [],
   "source": [
    "#function that uses POS Tagger \n",
    "#def Viterbi_update2(words, unknown_words=Unknownwords, train_bag = train_tagged_words):\n",
    "def Viterbi_update2(words, train_bag = train_tagged_words):\n",
    "    state = []\n",
    "    T = list(set([pair[1] for pair in train_bag]))\n",
    "    tag_prob = []\n",
    "    total_tag= len([tag for word,tag in train_tagged_words])\n",
    "    for t in T:\n",
    "        each_tag= [tag for word,tag in train_tagged_words if tag==t]\n",
    "        tag_prob.append((t,len(each_tag)/total_tag))       \n",
    "    \n",
    "    for key, word in enumerate(words):\n",
    "        #initialise the variables for prob and transition prob\n",
    "        p = [] \n",
    "        p_transition =[] \n",
    "        for tag in T:\n",
    "            if key== 0:\n",
    "                transition_p=tags_df.loc['.', tag]\n",
    "            else:\n",
    "                transition_p=tags_df.loc[state[-1], tag]\n",
    "                \n",
    "            emission_p=word_given_tag(words[key], tag)[0]/word_given_tag(words[key],tag)[1] \n",
    "            state_probability=emission_p*transition_p    \n",
    "            p.append(state_probability)            \n",
    "            # find POS tag occurance probability\n",
    "            tag_pos=[pair[1] for pair in tag_prob if pair[0]==tag]\n",
    "            \n",
    "            # calculate the transition prob weighted by tag occurance probability.\n",
    "            transition_p=tag_pos[0]*transition_p\n",
    "            p_transition.append(transition_p)\n",
    "            \n",
    "        pmax=max(p)\n",
    "        state_max = lexicon_tagger.tag([word])[0][1]         \n",
    "      \n",
    "        # getting state for which probability is maximum\n",
    "        if(pmax==0):\n",
    "            state_max = lexicon_tagger.tag([word])[0][1] # assign based on rule based tagger            \n",
    "            # if unknown word does not satisfy any rule, find the tag with maximum transition probability\n",
    "            if state_max=='NOUN':\n",
    "                pmax=max(p_transition)\n",
    "                state_max=T[p_transition.index(pmax)]                 \n",
    "        else:\n",
    "             if state_max!='X':\n",
    "                state_max = T[p.index(pmax)]         \n",
    "        state.append(state_max)\n",
    "    return list(zip(words, state))"
   ]
  },
  {
   "cell_type": "code",
   "execution_count": 31,
   "metadata": {},
   "outputs": [
    {
     "name": "stdout",
     "output_type": "stream",
     "text": [
      "Total time taken in seconds:  48.76544666290283\n",
      "Accuracy after 2nd update is:  0.9260700389105059\n"
     ]
    }
   ],
   "source": [
    "# tagging\n",
    "start = time.time()\n",
    "tagged_seq_upd2 = Viterbi_update2(test_tagged_words)\n",
    "end = time.time()\n",
    "\n",
    "print(\"Total time taken in seconds: \", end-start)\n",
    "\n",
    "accuracy_update2 = Check_accuracy(tagged_seq_upd2 , test_run_base)\n",
    "print(\"Accuracy after 2nd update is: \", accuracy_update2)"
   ]
  },
  {
   "cell_type": "code",
   "execution_count": 32,
   "metadata": {},
   "outputs": [
    {
     "data": {
      "text/plain": [
       "[('So', 'ADV'),\n",
       " ('far', 'ADV'),\n",
       " (',', '.'),\n",
       " ('Mrs.', 'NOUN'),\n",
       " ('Hills', 'NOUN'),\n",
       " ('has', 'VERB'),\n",
       " (\"n't\", 'ADV'),\n",
       " ('deemed', 'VERB'),\n",
       " ('any', 'DET'),\n",
       " ('cases', 'NOUN'),\n",
       " ('bad', 'ADJ'),\n",
       " ('enough', 'ADJ'),\n",
       " ('*-1', 'X'),\n",
       " ('to', 'PRT'),\n",
       " ('merit', 'NOUN'),\n",
       " ('an', 'DET'),\n",
       " ('accelerated', 'ADJ'),\n",
       " ('investigation', 'NOUN'),\n",
       " ('under', 'ADP'),\n",
       " ('the', 'DET')]"
      ]
     },
     "execution_count": 32,
     "metadata": {},
     "output_type": "execute_result"
    }
   ],
   "source": [
    "tagged_seq_upd2[:20]"
   ]
  },
  {
   "cell_type": "code",
   "execution_count": 33,
   "metadata": {},
   "outputs": [
    {
     "data": {
      "text/plain": [
       "[[('.', '.'), (('So', 'ADV'), ('So', 'ADP'))],\n",
       " [('bad', 'ADJ'), (('enough', 'ADJ'), ('enough', 'ADV'))],\n",
       " [('to', 'PRT'), (('merit', 'NOUN'), ('merit', 'VERB'))],\n",
       " [('an', 'DET'), (('accelerated', 'ADJ'), ('accelerated', 'VERB'))],\n",
       " [('her', 'PRON'), (('favor', 'VERB'), ('favor', 'NOUN'))],\n",
       " [(',', '.'), (('that', 'DET'), ('that', 'ADP'))],\n",
       " [('of', 'ADP'), (('two-letter', 'NOUN'), ('two-letter', 'ADJ'))],\n",
       " [('two-letter', 'ADJ'), (('consonant', 'NOUN'), ('consonant', 'ADJ'))],\n",
       " [('consonant', 'ADJ'), (('sounds', 'VERB'), ('sounds', 'NOUN'))],\n",
       " [('same', 'ADJ'), (('sounds', 'VERB'), ('sounds', 'NOUN'))]]"
      ]
     },
     "execution_count": 33,
     "metadata": {},
     "output_type": "execute_result"
    }
   ],
   "source": [
    "unmatched = Find_unmatched_tagged_cases(tagged_seq_upd2 , test_run_base)\n",
    "unmatched[:10]"
   ]
  },
  {
   "cell_type": "markdown",
   "metadata": {},
   "source": [
    "#### Evaluating tagging accuracy"
   ]
  },
  {
   "cell_type": "code",
   "execution_count": 34,
   "metadata": {},
   "outputs": [
    {
     "name": "stdout",
     "output_type": "stream",
     "text": [
      "Vanilla Viterbi Algorithm Accuracy is:  0.9027237354085603\n"
     ]
    }
   ],
   "source": [
    "print(\"Vanilla Viterbi Algorithm Accuracy is: \",accuracy_viterbi)"
   ]
  },
  {
   "cell_type": "code",
   "execution_count": 35,
   "metadata": {},
   "outputs": [
    {
     "name": "stdout",
     "output_type": "stream",
     "text": [
      "Accuracy after 1st update is :  0.9221789883268483\n"
     ]
    }
   ],
   "source": [
    "print(\"Accuracy after 1st update is : \",accuracy_update1)"
   ]
  },
  {
   "cell_type": "code",
   "execution_count": 36,
   "metadata": {},
   "outputs": [
    {
     "name": "stdout",
     "output_type": "stream",
     "text": [
      "Accuracy after 2nd update is:  0.9260700389105059\n"
     ]
    }
   ],
   "source": [
    "print(\"Accuracy after 2nd update is: \", accuracy_update2)"
   ]
  },
  {
   "cell_type": "markdown",
   "metadata": {},
   "source": [
    "###### Evaluating tagging on sample 'Test_sentences.txt' file"
   ]
  },
  {
   "cell_type": "code",
   "execution_count": 37,
   "metadata": {},
   "outputs": [],
   "source": [
    "file = open('Test_sentences.txt')\n",
    "textfile = file.read()\n",
    "sample_sent = textfile.splitlines()\n",
    "file.close()"
   ]
  },
  {
   "cell_type": "code",
   "execution_count": 38,
   "metadata": {},
   "outputs": [],
   "source": [
    "# list of untagged words\n",
    "sample_test_words = [word for sent in sample_sent for word in sent.split()]"
   ]
  },
  {
   "cell_type": "code",
   "execution_count": 39,
   "metadata": {},
   "outputs": [
    {
     "name": "stdout",
     "output_type": "stream",
     "text": [
      "Time taken in seconds:  32.405014991760254\n"
     ]
    }
   ],
   "source": [
    "# tagging the test sentences\n",
    "start = time.time()\n",
    "sample_tagged_seq = Viterbi(sample_test_words)\n",
    "end = time.time()\n",
    "\n",
    "print(\"Time taken in seconds: \", end-start)"
   ]
  },
  {
   "cell_type": "code",
   "execution_count": 40,
   "metadata": {},
   "outputs": [
    {
     "name": "stdout",
     "output_type": "stream",
     "text": [
      "Time taken in seconds:  31.338361263275146\n"
     ]
    }
   ],
   "source": [
    "# tagging the test sentences using 1st update\n",
    "start = time.time()\n",
    "sample_tagged_seq1 = Viterbi_update1(sample_test_words)\n",
    "end = time.time()\n",
    "\n",
    "print(\"Time taken in seconds: \", end-start)"
   ]
  },
  {
   "cell_type": "code",
   "execution_count": 41,
   "metadata": {},
   "outputs": [
    {
     "name": "stdout",
     "output_type": "stream",
     "text": [
      "Time taken in seconds:  33.03256940841675\n"
     ]
    }
   ],
   "source": [
    "# tagging the test sentences using 2nd update\n",
    "start = time.time()\n",
    "sample_tagged_seq2 = Viterbi_update2(sample_test_words)\n",
    "end = time.time()\n",
    "\n",
    "print(\"Time taken in seconds: \", end-start)"
   ]
  },
  {
   "cell_type": "code",
   "execution_count": 42,
   "metadata": {},
   "outputs": [
    {
     "data": {
      "text/plain": [
       "[[('Satellite.', 'NOUN'), (('Android', 'ADV'), ('Android', 'NOUN'))],\n",
       " [('by', 'ADP'), (('Google.', 'ADV'), ('Google.', 'NOUN'))],\n",
       " [('Google.', 'NOUN'), (('Android', 'ADV'), ('Android', 'NOUN'))],\n",
       " [('best-selling', 'ADJ'), (('OS', 'ADV'), ('OS', 'NOUN'))],\n",
       " [('OS', 'NOUN'), (('worldwide', 'ADV'), ('worldwide', 'NOUN'))],\n",
       " [('on', 'ADP'), (('smartphones', 'ADV'), ('smartphones', 'NOUN'))],\n",
       " [('since', 'ADP'), (('2011', 'ADV'), ('2011', 'NOUN'))],\n",
       " [('since', 'ADP'), (('2013.', 'ADV'), ('2013.', 'NOUN'))],\n",
       " [('2013.', 'NOUN'), (('Google', 'ADV'), ('Google', 'NOUN'))],\n",
       " [('and', 'CONJ'), (('Twitter', 'ADV'), ('Twitter', 'NOUN'))],\n",
       " [('in', 'ADP'), (('2015', 'ADV'), ('2015', 'NOUN'))],\n",
       " [('gave', 'VERB'), (('Google', 'ADV'), ('Google', 'NOUN'))],\n",
       " [('to', 'PRT'), ((\"Twitter's\", 'ADV'), (\"Twitter's\", 'NOUN'))],\n",
       " [(\"Twitter's\", 'NOUN'), (('firehose.', 'ADV'), ('firehose.', 'NOUN'))],\n",
       " [('firehose.', 'NOUN'), (('Twitter', 'ADV'), ('Twitter', 'NOUN'))],\n",
       " [('an', 'DET'), (('online', 'ADV'), ('online', 'NOUN'))],\n",
       " [('and', 'CONJ'), (('interact', 'ADV'), ('interact', 'NOUN'))],\n",
       " [('with', 'ADP'), (('messages', 'ADV'), ('messages', 'NOUN'))],\n",
       " [('as', 'ADP'), (('tweets.', 'ADV'), ('tweets.', 'NOUN'))],\n",
       " [('entering', 'VERB'), (('politics,', 'ADV'), ('politics,', 'NOUN'))],\n",
       " [('a', 'DET'), (('domineering', 'ADV'), ('domineering', 'NOUN'))],\n",
       " [('television', 'NOUN'), (('personality.', 'ADV'), ('personality.', 'NOUN'))],\n",
       " [('The', 'DET'), (('2018', 'ADV'), ('2018', 'NOUN'))],\n",
       " [('2018', 'NOUN'), (('FIFA', 'ADV'), ('FIFA', 'NOUN'))],\n",
       " [('World', 'NOUN'), (('Cup', 'ADV'), ('Cup', 'NOUN'))],\n",
       " [('the', 'DET'), (('21st', 'ADV'), ('21st', 'NOUN'))],\n",
       " [('21st', 'NOUN'), (('FIFA', 'ADV'), ('FIFA', 'NOUN'))],\n",
       " [('World', 'NOUN'), (('Cup,', 'ADV'), ('Cup,', 'NOUN'))],\n",
       " [('football', 'NOUN'), (('tournament', 'ADV'), ('tournament', 'NOUN'))],\n",
       " [('tournament', 'NOUN'), (('contested', 'ADV'), ('contested', 'NOUN'))],\n",
       " [('four', 'NUM'), (('years.', 'ADV'), ('years.', 'NOUN'))],\n",
       " [('World', 'NOUN'), (('Cup', 'ADV'), ('Cup', 'NOUN'))],\n",
       " [('in', 'ADP'), (('Europe.', 'ADV'), ('Europe.', 'NOUN'))],\n",
       " [('round', 'NOUN'), (('trips', 'ADV'), ('trips', 'NOUN'))],\n",
       " [('to', 'PRT'), (('Philadelphia.', 'ADV'), ('Philadelphia.', 'NOUN'))],\n",
       " [('and', 'CONJ'), (('arriving', 'ADV'), ('arriving', 'NOUN'))],\n",
       " [('San', 'NOUN'), (('Francisco.', 'ADV'), ('Francisco.', 'NOUN'))],\n",
       " [('Francisco.', 'NOUN'), (('NASA', 'ADV'), ('NASA', 'NOUN'))],\n",
       " [('NASA', 'NOUN'), (('invited', 'ADV'), ('invited', 'NOUN'))],\n",
       " [('of', 'ADP'), (('ICESAT-2', 'ADV'), ('ICESAT-2', 'NOUN'))],\n",
       " [('ICESAT-2', 'NOUN'), (('Satellite.', 'ADV'), ('Satellite.', 'NOUN'))]]"
      ]
     },
     "execution_count": 42,
     "metadata": {},
     "output_type": "execute_result"
    }
   ],
   "source": [
    "#finding the unmatching between viterbi and viterbi 1st update \n",
    "unmatched = Find_unmatched_tagged_cases(sample_tagged_seq , sample_tagged_seq1)\n",
    "unmatched"
   ]
  },
  {
   "cell_type": "code",
   "execution_count": 43,
   "metadata": {},
   "outputs": [
    {
     "data": {
      "text/plain": [
       "[[('on', 'ADP'), (('smartphones', 'NOUN'), ('smartphones', 'VERB'))],\n",
       " [('since', 'ADP'), (('2011', 'NOUN'), ('2011', 'NUM'))],\n",
       " [('in', 'ADP'), (('2015', 'NOUN'), ('2015', 'NUM'))],\n",
       " [('with', 'ADP'), (('messages', 'NOUN'), ('messages', 'VERB'))],\n",
       " [('a', 'DET'), (('domineering', 'NOUN'), ('domineering', 'VERB'))],\n",
       " [('The', 'DET'), (('2018', 'NOUN'), ('2018', 'NUM'))],\n",
       " [('tournament', 'NOUN'), (('contested', 'NOUN'), ('contested', 'VERB'))],\n",
       " [('and', 'CONJ'), (('arriving', 'NOUN'), ('arriving', 'VERB'))],\n",
       " [('NASA', 'NOUN'), (('invited', 'NOUN'), ('invited', 'VERB'))]]"
      ]
     },
     "execution_count": 43,
     "metadata": {},
     "output_type": "execute_result"
    }
   ],
   "source": [
    "#finding the unmatching between viterbi 1st update and viterbi 2nd update \n",
    "unmatched = Find_unmatched_tagged_cases(sample_tagged_seq1 , sample_tagged_seq2)\n",
    "unmatched"
   ]
  },
  {
   "cell_type": "markdown",
   "metadata": {},
   "source": [
    "On the test sentence file , we got the following :\n",
    "\n",
    "1. Cases which are correctly POS tagged by Viterbi_update1:\n",
    "\n",
    "Android AS 'NOUN'                                                                                                        \n",
    "Google AS 'NOUN'                                                                                                         \n",
    "worldwide as 'NOUN'                                                                                                       \n",
    "OS as 'NOUN'\n",
    "\n",
    "2. Cases which are correctly POS tagged by Viterbi_update2:\n",
    "\n",
    "2011 as 'NUM'                                                                                                                 \n",
    "2015 as 'NUM'  \n",
    "contested as 'VERB'                                                                                                       \n",
    "invited as 'VERB'                                                                                                             \n",
    "arriving as 'VERB'                                                                                                           \n",
    "    "
   ]
  },
  {
   "cell_type": "markdown",
   "metadata": {},
   "source": [
    "### Compare the tagging accuracies of the modifications with the vanilla Viterbi algorithm"
   ]
  },
  {
   "cell_type": "markdown",
   "metadata": {},
   "source": [
    "Vanilla Viterbi Algorithm Accuracy is:  90.27%                                                                \n",
    "Accuracy after first update is :  92.21%                                                                                \n",
    "Accuracy after second update is:  92.61%\n",
    "\n",
    "And clearly the second update shows the increased accuracy. "
   ]
  },
  {
   "cell_type": "markdown",
   "metadata": {},
   "source": [
    "### List down cases which were incorrectly tagged by original POS tagger and got corrected by your modifications"
   ]
  },
  {
   "cell_type": "markdown",
   "metadata": {},
   "source": [
    "The following are few cases were incorrectly tagged which got corrected by modified Viterbi Algorithm:"
   ]
  },
  {
   "cell_type": "markdown",
   "metadata": {},
   "source": [
    "deemed correctly tagged as VERB                                                                                         \n",
    "301 correctly tagged as NUM                                                                                                    \n",
    "two-letter correctly tagged as NOUN                                                                                            \n",
    "consonant correctly tagged as NOUN                                                                                            \n",
    "exclusion correctly tagged as NOUN                                                                                            \n",
    "Handelsbanken correctly tagged as NOUN                                                                                         \n",
    "modification correctly tagged as NOUN                                                                                         \n",
    "C'mon correctly tagged as NOUN                                                                                                "
   ]
  },
  {
   "cell_type": "code",
   "execution_count": null,
   "metadata": {},
   "outputs": [],
   "source": []
  }
 ],
 "metadata": {
  "kernelspec": {
   "display_name": "Python 3",
   "language": "python",
   "name": "python3"
  },
  "language_info": {
   "codemirror_mode": {
    "name": "ipython",
    "version": 3
   },
   "file_extension": ".py",
   "mimetype": "text/x-python",
   "name": "python",
   "nbconvert_exporter": "python",
   "pygments_lexer": "ipython3",
   "version": "3.7.1"
  }
 },
 "nbformat": 4,
 "nbformat_minor": 2
}
